{
 "cells": [
  {
   "cell_type": "code",
   "execution_count": 1,
   "metadata": {},
   "outputs": [],
   "source": [
    "import cv2\n",
    "import numpy as np\n",
    "import os\n",
    "from random import shuffle\n",
    "from tqdm import tqdm"
   ]
  },
  {
   "cell_type": "code",
   "execution_count": 2,
   "metadata": {},
   "outputs": [],
   "source": [
    "IMG_DIR = '/disk2/paint/'\n",
    "TRAIN_DIR = '/disk2/paint_train/'\n",
    "TRAIN_FILE = TRAIN_DIR + 'train_data.npy'\n",
    "MAX_IMAGES_PER_CLASS = 5000\n",
    "IMG_SIZE = 112\n",
    "# learning rate = 0.001\n",
    "LR = 1e-3"
   ]
  },
  {
   "cell_type": "code",
   "execution_count": 3,
   "metadata": {},
   "outputs": [],
   "source": [
    "attributes = ['media_3d_graphics', 'media_comic', 'media_graphite', 'media_oilpaint', \n",
    "              'media_pen_ink', 'media_vectorart', 'media_watercolor']\n",
    "def label_to_one_hot(label):\n",
    "    res = np.zeros(len(attributes))\n",
    "    index = attributes.index(label)\n",
    "    res[index] = 1\n",
    "    return res;\n",
    "\n",
    "def one_hot_to_label(one_hot):\n",
    "    index = np.argmax(one_hot)\n",
    "    return attributes[index]\n",
    "\n",
    "# we need about 10GB RAM\n",
    "def create_train_data():\n",
    "    attr_count = {k:0 for k in attributes}\n",
    "    training_data = []\n",
    "    for image_name in tqdm(os.listdir(IMG_DIR)):\n",
    "        name = image_name.split('.')[0]\n",
    "        if (attr_count[name] > MAX_IMAGES_PER_CLASS):\n",
    "            continue\n",
    "        attr_count[name] += 1\n",
    "        path = os.path.join(IMG_DIR, image_name)\n",
    "        image = cv2.imread(path, 1)\n",
    "        image = cv2.resize(image, (IMG_SIZE,IMG_SIZE))\n",
    "        label = label_to_one_hot(name)\n",
    "        training_data.append([np.array(image), np.array(label)])\n",
    "    shuffle(training_data)\n",
    "    np.save(TRAIN_FILE, training_data)\n",
    "    print('Loaded data: ', attr_count)\n",
    "    return training_data;"
   ]
  },
  {
   "cell_type": "code",
   "execution_count": 4,
   "metadata": {},
   "outputs": [],
   "source": [
    "if (os.path.isfile(TRAIN_FILE)):\n",
    "    train_data = np.load(TRAIN_FILE)\n",
    "else:\n",
    "    train_data = create_train_data()"
   ]
  },
  {
   "cell_type": "code",
   "execution_count": 5,
   "metadata": {},
   "outputs": [
    {
     "name": "stdout",
     "output_type": "stream",
     "text": [
      "RGB values of image 0, row 0, column 0:  [239 239 239]\n",
      "(num_images, IMG_SIZE, IMG_SIZE, num_channels)\n",
      "(32732, 112, 112, 3)\n"
     ]
    }
   ],
   "source": [
    "# X - images\n",
    "X = np.array([i[0] for i in train_data])\n",
    "# Y - 'one_hot' labels\n",
    "Y = np.array([i[1] for i in train_data])\n",
    "# reshape to: [num_images, IMG_SIZE, IMG_SIZE, num_channels(3 for color, 1 for grayscale)]\n",
    "X = X.reshape(X.shape[0], IMG_SIZE, IMG_SIZE, 3)\n",
    "print('RGB values of image 0, row 0, column 0: ', X[0][0][0])\n",
    "# since the values are integers, let's convert them to float\n",
    "X = X.astype('float32')\n",
    "# let's normalize the values, initially they are in range (0,255)\n",
    "# we convert them to range (-0.5, 0.5), so their mean will be 0\n",
    "X = (X - 127) / 255\n",
    "print('(num_images, IMG_SIZE, IMG_SIZE, num_channels)')\n",
    "print(X.shape)"
   ]
  },
  {
   "cell_type": "code",
   "execution_count": 6,
   "metadata": {},
   "outputs": [
    {
     "name": "stdout",
     "output_type": "stream",
     "text": [
      "train size: 29459\n",
      "test size: 3273\n"
     ]
    }
   ],
   "source": [
    "# let's use 10% of our data for testing\n",
    "# take last 3273 elements\n",
    "x_test = X[-3273:]\n",
    "y_test = Y[-3273:]\n",
    "x_train = X[:-3273]\n",
    "y_train = Y[:-3273]\n",
    "print('train size:', x_train.shape[0])\n",
    "print('test size:', x_test.shape[0])"
   ]
  },
  {
   "cell_type": "code",
   "execution_count": null,
   "metadata": {},
   "outputs": [],
   "source": [
    "import keras\n",
    "from keras import regularizers\n",
    "from keras.models import Model\n",
    "from keras.layers import Dense, Dropout, Flatten, Conv2D, MaxPooling2D, Input, GaussianNoise, concatenate, AveragePooling2D, ZeroPadding2D\n",
    "from keras.callbacks import TensorBoard\n",
    "\n",
    "input_layer = Input(shape=(IMG_SIZE, IMG_SIZE, 3))\n",
    "\n",
    "layers_1 = Conv2D(64, (7, 7), padding='same', activation='relu', kernel_regularizer=regularizers.l2(0.0005))(input_layer)\n",
    "layers_1 = MaxPooling2D(pool_size=(3, 3), strides=(2, 2))(layers_1)\n",
    "layers_1 = Conv2D(64, (1, 1), padding='same', activation='relu', kernel_regularizer=regularizers.l2(0.0005))(layers_1)\n",
    "layers_1 = Conv2D(128, (3, 3), padding='same', activation='relu', kernel_regularizer=regularizers.l2(0.0005))(layers_1)\n",
    "layers_1 = MaxPooling2D(pool_size=(3, 3), strides=(2, 2))(layers_1)\n",
    "layers_1 = ZeroPadding2D(((0, 1), (0, 1)))(layers_1)\n",
    "\n",
    "layers_2a = Conv2D(32, (1, 1), padding='same', activation='relu', kernel_regularizer=regularizers.l2(0.0005))(layers_1)\n",
    "layers_2b = Conv2D(64, (1, 1), padding='same', activation='relu', kernel_regularizer=regularizers.l2(0.0005))(layers_1)\n",
    "layers_2b = Conv2D(128, (3, 3), padding='same', activation='relu', kernel_regularizer=regularizers.l2(0.0005))(layers_2b)\n",
    "layers_2c = Conv2D(16, (1, 1), padding='same', activation='relu', kernel_regularizer=regularizers.l2(0.0005))(layers_1)\n",
    "layers_2c = Conv2D(32, (5, 5), padding='same', activation='relu', kernel_regularizer=regularizers.l2(0.0005))(layers_2c)\n",
    "layers_2d = MaxPooling2D(pool_size=(3, 3), strides=(1, 1), padding='same')(layers_1)\n",
    "layers_2d = Conv2D(64, (1, 1), padding='same', activation='relu', kernel_regularizer=regularizers.l2(0.0005))(layers_2d)\n",
    "layers_2 = concatenate([layers_2a,layers_2b,layers_2c,layers_2d])\n",
    "\n",
    "loss1 = AveragePooling2D(pool_size=(5,5),strides=(3,3))(layers_2)\n",
    "loss1 = Conv2D(128, (1, 1), padding='same', activation='relu', kernel_regularizer=regularizers.l2(0.0005))(loss1)\n",
    "loss1 = Flatten()(loss1)\n",
    "loss1 = Dense(1024, activation='relu', kernel_regularizer=regularizers.l2(0.0005))(loss1)\n",
    "loss1 = Dropout(0.7)(loss1)\n",
    "loss1 = Dense(len(attributes), kernel_regularizer=regularizers.l2(0.0005), activation='softmax')(loss1)\n",
    "\n",
    "layers_2 = MaxPooling2D(pool_size=(3, 3), strides=(2, 2))(layers_2)\n",
    "layers_2 = ZeroPadding2D(((0, 1), (0, 1)))(layers_2)\n",
    "layers_3a = Conv2D(32, (1, 1), padding='same', activation='relu', kernel_regularizer=regularizers.l2(0.0005))(layers_2)\n",
    "layers_3b = Conv2D(64, (1, 1), padding='same', activation='relu', kernel_regularizer=regularizers.l2(0.0005))(layers_2)\n",
    "layers_3b = Conv2D(128, (3, 3), padding='same', activation='relu', kernel_regularizer=regularizers.l2(0.0005))(layers_3b)\n",
    "layers_3c = Conv2D(16, (1, 1), padding='same', activation='relu', kernel_regularizer=regularizers.l2(0.0005))(layers_2)\n",
    "layers_3c = Conv2D(32, (5, 5), padding='same', activation='relu', kernel_regularizer=regularizers.l2(0.0005))(layers_3c)\n",
    "layers_3d = MaxPooling2D(pool_size=(3, 3), strides=(1, 1), padding='same')(layers_2)\n",
    "layers_3d = Conv2D(64, (1, 1), padding='same', activation='relu', kernel_regularizer=regularizers.l2(0.0005))(layers_3d)\n",
    "layers_3 = concatenate([layers_3a,layers_3b,layers_3c,layers_3d])\n",
    "\n",
    "loss2 = AveragePooling2D(pool_size=(5,5),strides=(3,3))(layers_3)\n",
    "loss2 = Conv2D(128, (1, 1), padding='same', activation='relu', kernel_regularizer=regularizers.l2(0.0005))(loss2)\n",
    "loss2 = Flatten()(loss2)\n",
    "loss2 = Dense(1024, activation='relu', kernel_regularizer=regularizers.l2(0.0005))(loss2)\n",
    "loss2 = Dropout(0.7)(loss2)\n",
    "loss2 = Dense(len(attributes), kernel_regularizer=regularizers.l2(0.0005), activation='softmax')(loss2)\n",
    "\n",
    "model = Model(input_layer, [loss1, loss2])\n",
    "model.summary()\n",
    "model.compile(loss=keras.losses.categorical_crossentropy,\n",
    "              optimizer=\"adam\", metrics=['accuracy'])\n",
    "tbCallBack = TensorBoard(log_dir='./log-bam-2/model-v1', histogram_freq=0,  \n",
    "          write_graph=True, write_images=True)\n",
    "model.fit(x_train, [y_train, y_train],\n",
    "          epochs=15,\n",
    "          verbose=1,\n",
    "          validation_split=0.2,\n",
    "          callbacks=[tbCallBack])\n",
    "# let's evaluate model on test data\n",
    "score = model.evaluate(x_test, [y_test, y_test], verbose=0)\n",
    "print('Test loss:', score[0])\n",
    "print('Test accuracy:', score[1])"
   ]
  }
 ],
 "metadata": {
  "kernelspec": {
   "display_name": "Python 3",
   "language": "python",
   "name": "python3"
  },
  "language_info": {
   "codemirror_mode": {
    "name": "ipython",
    "version": 3
   },
   "file_extension": ".py",
   "mimetype": "text/x-python",
   "name": "python",
   "nbconvert_exporter": "python",
   "pygments_lexer": "ipython3",
   "version": "3.6.4"
  }
 },
 "nbformat": 4,
 "nbformat_minor": 2
}
