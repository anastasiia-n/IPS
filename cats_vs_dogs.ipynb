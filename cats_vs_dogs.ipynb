{
 "cells": [
  {
   "cell_type": "code",
   "execution_count": 1,
   "metadata": {},
   "outputs": [],
   "source": [
    "import cv2\n",
    "import numpy as np\n",
    "import os\n",
    "from random import shuffle\n",
    "from tqdm import tqdm"
   ]
  },
  {
   "cell_type": "code",
   "execution_count": 2,
   "metadata": {},
   "outputs": [],
   "source": [
    "TRAIN_DIR = './train'\n",
    "TEST_DIR = './test'\n",
    "# 50x50px image\n",
    "IMG_SIZE = 50\n",
    "# learning rate = 0.001\n",
    "LR = 1e-3"
   ]
  },
  {
   "cell_type": "code",
   "execution_count": 3,
   "metadata": {},
   "outputs": [],
   "source": [
    "def label_to_one_hot(label):\n",
    "    # image labels are in format 'dog.123123.jpg'\n",
    "    word_label = label.split('.')[0]\n",
    "    if word_label == 'cat': return [1, 0]\n",
    "    elif word_label == 'dog': return [0, 1]"
   ]
  },
  {
   "cell_type": "code",
   "execution_count": 4,
   "metadata": {},
   "outputs": [],
   "source": [
    "def create_train_data(grayscale=False):\n",
    "    train_data = []\n",
    "    for img in tqdm(os.listdir(TRAIN_DIR)):\n",
    "        label = label_to_one_hot(img)\n",
    "        path = os.path.join(TRAIN_DIR, img)\n",
    "        mode = 0 if grayscale else 1\n",
    "        img = cv2.resize(cv2.imread(path, mode), (IMG_SIZE, IMG_SIZE))\n",
    "        train_data.append([np.array(img), np.array(label)])\n",
    "    shuffle(train_data)\n",
    "    np.save('train_data.npy', train_data)\n",
    "    return train_data"
   ]
  },
  {
   "cell_type": "code",
   "execution_count": 5,
   "metadata": {},
   "outputs": [
    {
     "name": "stdout",
     "output_type": "stream",
     "text": [
      "RGB values of image 0, row 0, column 0:  [ 88 100 104]\n",
      "(num_images, IMG_SIZE, IMG_SIZE, num_channels)\n",
      "(25000, 50, 50, 3)\n"
     ]
    }
   ],
   "source": [
    "if (os.path.isfile('train_data.npy')):\n",
    "    train_data = np.load('train_data.npy')\n",
    "else:\n",
    "    train_data = create_train_data()\n",
    "# X - images\n",
    "X = np.array([i[0] for i in train_data])\n",
    "# Y - 'one_hot' labels\n",
    "Y = np.array([i[1] for i in train_data])\n",
    "# reshape to: [num_images, IMG_SIZE, IMG_SIZE, num_channels(3 for color, 1 for grayscale)]\n",
    "X = X.reshape(X.shape[0], IMG_SIZE, IMG_SIZE, 3)\n",
    "print('RGB values of image 0, row 0, column 0: ', X[0][0][0])\n",
    "# since the values are integers, let's convert them to float\n",
    "X = X.astype('float32')\n",
    "# let's normalize the values, initially they are in range (0,255)\n",
    "# we convert them to range (-0.5, 0.5), so their mean will be 0\n",
    "X = (X - 127) / 255\n",
    "print('(num_images, IMG_SIZE, IMG_SIZE, num_channels)')\n",
    "print(X.shape)"
   ]
  },
  {
   "cell_type": "code",
   "execution_count": 6,
   "metadata": {},
   "outputs": [
    {
     "name": "stdout",
     "output_type": "stream",
     "text": [
      "train size: 22500\n",
      "test size: 2500\n"
     ]
    }
   ],
   "source": [
    "# let's use 10% of our data for testing\n",
    "# take last 2500 elements\n",
    "x_test = X[-2500:]\n",
    "y_test = Y[-2500:]\n",
    "x_train = X[:-2500]\n",
    "y_train = Y[:-2500]\n",
    "print('train size:', x_train.shape[0])\n",
    "print('test size:', x_test.shape[0])"
   ]
  },
  {
   "cell_type": "code",
   "execution_count": 17,
   "metadata": {},
   "outputs": [
    {
     "name": "stdout",
     "output_type": "stream",
     "text": [
      "Train on 18000 samples, validate on 4500 samples\n",
      "Epoch 1/12\n",
      " - 26s - loss: 0.6336 - acc: 0.6319 - val_loss: 0.5696 - val_acc: 0.7082\n",
      "Epoch 2/12\n",
      " - 25s - loss: 0.5500 - acc: 0.7197 - val_loss: 0.5468 - val_acc: 0.7262\n",
      "Epoch 3/12\n",
      " - 25s - loss: 0.4904 - acc: 0.7639 - val_loss: 0.5006 - val_acc: 0.7567\n",
      "Epoch 4/12\n",
      " - 25s - loss: 0.4480 - acc: 0.7880 - val_loss: 0.4223 - val_acc: 0.8029\n",
      "Epoch 5/12\n",
      " - 25s - loss: 0.4039 - acc: 0.8168 - val_loss: 0.4108 - val_acc: 0.8160\n",
      "Epoch 6/12\n",
      " - 25s - loss: 0.3643 - acc: 0.8374 - val_loss: 0.3759 - val_acc: 0.8331\n",
      "Epoch 7/12\n",
      " - 25s - loss: 0.3405 - acc: 0.8482 - val_loss: 0.3694 - val_acc: 0.8353\n",
      "Epoch 8/12\n",
      " - 25s - loss: 0.3102 - acc: 0.8649 - val_loss: 0.3646 - val_acc: 0.8444\n",
      "Epoch 9/12\n",
      " - 25s - loss: 0.2857 - acc: 0.8744 - val_loss: 0.3724 - val_acc: 0.8387\n",
      "Epoch 10/12\n",
      " - 25s - loss: 0.2605 - acc: 0.8869 - val_loss: 0.3587 - val_acc: 0.8469\n",
      "Epoch 11/12\n",
      " - 25s - loss: 0.2244 - acc: 0.9043 - val_loss: 0.3662 - val_acc: 0.8436\n",
      "Epoch 12/12\n",
      " - 25s - loss: 0.2077 - acc: 0.9128 - val_loss: 0.4187 - val_acc: 0.8338\n",
      "Test loss: 0.4705629923462868\n",
      "Test accuracy: 0.8256\n"
     ]
    }
   ],
   "source": [
    "import keras\n",
    "from keras.models import Sequential\n",
    "from keras.layers import Dense, Dropout, Flatten, Conv2D, MaxPooling2D\n",
    "from keras.callbacks import TensorBoard\n",
    "\n",
    "model = Sequential()\n",
    "model.add(Conv2D(32, kernel_size=(5, 5),\n",
    "                 activation='relu',\n",
    "                 input_shape=(IMG_SIZE, IMG_SIZE, 3)))\n",
    "model.add(MaxPooling2D(pool_size=(2, 2)))\n",
    "model.add(Conv2D(64, (3, 3), activation='relu'))\n",
    "model.add(MaxPooling2D(pool_size=(2, 2)))\n",
    "model.add(Conv2D(128, (3, 3), activation='relu'))\n",
    "model.add(MaxPooling2D(pool_size=(2, 2)))\n",
    "model.add(Dropout(0.25))\n",
    "model.add(Flatten())\n",
    "model.add(Dense(512, activation='relu'))\n",
    "model.add(Dropout(0.5))\n",
    "# output size = num of classes\n",
    "model.add(Dense(2, activation='softmax'))\n",
    "\n",
    "model.compile(loss=keras.losses.categorical_crossentropy,\n",
    "              optimizer=\"adam\", metrics=['accuracy'])\n",
    "tbCallBack = TensorBoard(log_dir='./log/model-adam-c5128', histogram_freq=0,  \n",
    "          write_graph=True, write_images=True)\n",
    "model.fit(x_train, y_train,\n",
    "          batch_size=100,\n",
    "          epochs=12,\n",
    "          verbose=2,\n",
    "          validation_split=0.2,\n",
    "          callbacks=[tbCallBack])\n",
    "# let's evaluate model on test data\n",
    "score = model.evaluate(x_test, y_test, verbose=0)\n",
    "print('Test loss:', score[0])\n",
    "print('Test accuracy:', score[1])"
   ]
  },
  {
   "cell_type": "code",
   "execution_count": null,
   "metadata": {},
   "outputs": [],
   "source": []
  }
 ],
 "metadata": {
  "kernelspec": {
   "display_name": "Python 3",
   "language": "python",
   "name": "python3"
  },
  "language_info": {
   "codemirror_mode": {
    "name": "ipython",
    "version": 3
   },
   "file_extension": ".py",
   "mimetype": "text/x-python",
   "name": "python",
   "nbconvert_exporter": "python",
   "pygments_lexer": "ipython3",
   "version": "3.6.4"
  }
 },
 "nbformat": 4,
 "nbformat_minor": 2
}
